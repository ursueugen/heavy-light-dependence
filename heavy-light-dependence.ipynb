{
 "cells": [
  {
   "cell_type": "code",
   "execution_count": 1,
   "metadata": {},
   "outputs": [],
   "source": [
    "from typing import List\n",
    "import logging\n",
    "from dataclasses import dataclass\n",
    "\n",
    "import numpy as np\n",
    "import pandas as pd\n",
    "import seaborn as sns\n",
    "\n",
    "import Bio\n",
    "import Bio.PDB\n",
    "import Bio.SVDSuperimposer\n",
    "\n",
    "from utils import *"
   ]
  },
  {
   "cell_type": "code",
   "execution_count": 4,
   "metadata": {},
   "outputs": [
    {
     "name": "stdout",
     "output_type": "stream",
     "text": [
      "\n",
      "    - Shape: (398, 3)\n",
      "    - #engineered: 361\n",
      "\n"
     ]
    },
    {
     "data": {
      "text/html": "<div>\n<style scoped>\n    .dataframe tbody tr th:only-of-type {\n        vertical-align: middle;\n    }\n\n    .dataframe tbody tr th {\n        vertical-align: top;\n    }\n\n    .dataframe thead th {\n        text-align: right;\n    }\n</style>\n<table border=\"1\" class=\"dataframe\">\n  <thead>\n    <tr style=\"text-align: right;\">\n      <th></th>\n      <th>Hchain</th>\n      <th>Lchain</th>\n      <th>engineered</th>\n    </tr>\n    <tr>\n      <th>pdb</th>\n      <th></th>\n      <th></th>\n      <th></th>\n    </tr>\n  </thead>\n  <tbody>\n    <tr>\n      <th>6eyn</th>\n      <td>D</td>\n      <td>C</td>\n      <td>True</td>\n    </tr>\n    <tr>\n      <th>5bq7</th>\n      <td>A</td>\n      <td>B</td>\n      <td>True</td>\n    </tr>\n    <tr>\n      <th>1vge</th>\n      <td>H</td>\n      <td>L</td>\n      <td>True</td>\n    </tr>\n  </tbody>\n</table>\n</div>",
      "text/plain": "     Hchain Lchain  engineered\npdb                           \n6eyn      D      C        True\n5bq7      A      B        True\n1vge      H      L        True"
     },
     "execution_count": 4,
     "metadata": {},
     "output_type": "execute_result"
    }
   ],
   "source": [
    "def get_dataset_summary():\n",
    "    df = pd.read_csv(\"data/SAbDab-Fv-unbound/20210927_0887165_summary.tsv\", sep='\\t')\n",
    "    df.drop_duplicates(subset = [\"pdb\"], keep = 'first', inplace = True)\n",
    "    df.set_index(\"pdb\", inplace = True)\n",
    "    df = df[[\"Hchain\", \"Lchain\", \"engineered\"]].copy()\n",
    "    return df\n",
    "\n",
    "df = get_dataset_summary()\n",
    "print(f\"\"\"\n",
    "    - Shape: {df.shape}\n",
    "    - #engineered: {(df.engineered == True).sum()}\n",
    "\"\"\")\n",
    "df.head(3)"
   ]
  },
  {
   "cell_type": "code",
   "execution_count": 5,
   "metadata": {},
   "outputs": [
    {
     "data": {
      "text/html": "<div>\n<style scoped>\n    .dataframe tbody tr th:only-of-type {\n        vertical-align: middle;\n    }\n\n    .dataframe tbody tr th {\n        vertical-align: top;\n    }\n\n    .dataframe thead th {\n        text-align: right;\n    }\n</style>\n<table border=\"1\" class=\"dataframe\">\n  <thead>\n    <tr style=\"text-align: right;\">\n      <th></th>\n      <th>pdb1</th>\n      <th>pdb2</th>\n      <th>rmsd_h12</th>\n      <th>rmsd_l12</th>\n      <th>engineered_1</th>\n      <th>engineered_2</th>\n    </tr>\n  </thead>\n  <tbody>\n    <tr>\n      <th>0</th>\n      <td>4ocs</td>\n      <td>4xcc</td>\n      <td>6.880439</td>\n      <td>6.803280</td>\n      <td>True</td>\n      <td>True</td>\n    </tr>\n    <tr>\n      <th>1</th>\n      <td>5n4j</td>\n      <td>6med</td>\n      <td>11.101781</td>\n      <td>5.109151</td>\n      <td>True</td>\n      <td>True</td>\n    </tr>\n    <tr>\n      <th>2</th>\n      <td>4lkc</td>\n      <td>6apc</td>\n      <td>7.107955</td>\n      <td>7.673546</td>\n      <td>True</td>\n      <td>True</td>\n    </tr>\n  </tbody>\n</table>\n</div>",
      "text/plain": "   pdb1  pdb2   rmsd_h12  rmsd_l12  engineered_1  engineered_2\n0  4ocs  4xcc   6.880439  6.803280          True          True\n1  5n4j  6med  11.101781  5.109151          True          True\n2  4lkc  6apc   7.107955  7.673546          True          True"
     },
     "execution_count": 5,
     "metadata": {},
     "output_type": "execute_result"
    }
   ],
   "source": [
    "ids = set(df.index)\n",
    "NUM_SAMPLES = 10\n",
    "samples = sample_pairs(ids, num_pairs = NUM_SAMPLES)\n",
    "# print(samples)\n",
    "\n",
    "records = []\n",
    "for pair in samples:\n",
    "    try:\n",
    "        name1 = pair[0]\n",
    "        name2 = pair[1]\n",
    "        path1 = f\"data/SAbDab-Fv-unbound/chothia/{name1}.pdb\"\n",
    "        path2 = f\"data/SAbDab-Fv-unbound/chothia/{name2}.pdb\"\n",
    "        hchain_name_1 = df.loc[name1]['Hchain']\n",
    "        lchain_name_1 = df.loc[name1]['Lchain']\n",
    "        hchain_name_2 = df.loc[name2]['Hchain']\n",
    "        lchain_name_2 = df.loc[name2]['Lchain']\n",
    "\n",
    "        parser = Bio.PDB.PDBParser(PERMISSIVE=0)  # strict parser\n",
    "        structure1 = parser.get_structure(name1, path1)\n",
    "        structure2 = parser.get_structure(name2, path2)\n",
    "\n",
    "        h_res_1, l_res_1 = extract_variable_regions_residues(structure1, hchain_name_1, lchain_name_1)\n",
    "        h_res_2, l_res_2 = extract_variable_regions_residues(structure2, hchain_name_2, lchain_name_2)\n",
    "\n",
    "        coord_h1 = extract_calpha_coord(h_res_1)\n",
    "        coord_l1 = extract_calpha_coord(l_res_1)\n",
    "        coord_h2 = extract_calpha_coord(h_res_2)\n",
    "        coord_l2 = extract_calpha_coord(l_res_2)\n",
    "\n",
    "        sup = Bio.SVDSuperimposer.SVDSuperimposer()\n",
    "        rmsd_h12 = compute_rmsd(coord_h1, coord_h2, sup)\n",
    "        rmsd_l12 = compute_rmsd(coord_l1, coord_l2, sup)\n",
    "        rmsd_v12 = compute_rmsd(\n",
    "            np.vstack([coord_h2, coord_l2]),\n",
    "            np.vstack([coord_h1, coord_l1]),\n",
    "        )\n",
    "\n",
    "        record = {\n",
    "            \"pdb1\": name1,\n",
    "            \"pdb2\": name2,\n",
    "            \"rmsd_h12\": rmsd_h12,\n",
    "            \"rmsd_l12\": rmsd_l12,\n",
    "            \"engineered_1\": df.loc[name1]['engineered'],\n",
    "            \"engineered_2\": df.loc[name2]['engineered'],\n",
    "        }\n",
    "        records.append(record)\n",
    "    except:\n",
    "        pass\n",
    "\n",
    "res = pd.DataFrame.from_records(records)\n",
    "# print(res.shape)\n",
    "res.to_csv(f\"results_N{NUM_SAMPLES}.tsv\")\n",
    "res.head(3)"
   ]
  },
  {
   "cell_type": "code",
   "execution_count": 6,
   "metadata": {},
   "outputs": [],
   "source": [
    "pair_eng_classes = []\n",
    "for _, s in res.iterrows():\n",
    "    eng_1 = bool(s['engineered_1'])\n",
    "    eng_2 = bool(s['engineered_2'])\n",
    "    \n",
    "    if eng_1 and eng_2:\n",
    "        label = \"both\"\n",
    "    elif eng_1 or eng_2:\n",
    "        label = \"one\"\n",
    "    elif not (eng_1 or eng_2):\n",
    "        label = \"none\"\n",
    "\n",
    "    pair_eng_classes.append(label)\n",
    "\n",
    "res['engineered_label'] = pair_eng_classes"
   ]
  },
  {
   "cell_type": "code",
   "execution_count": 7,
   "metadata": {},
   "outputs": [
    {
     "data": {
      "text/plain": "<seaborn.axisgrid.JointGrid at 0x7fce10b1a970>"
     },
     "execution_count": 7,
     "metadata": {},
     "output_type": "execute_result"
    },
    {
     "data": {
      "image/png": "[encoded data removed]",
      "text/plain": "<Figure size 432x432 with 3 Axes>"
     },
     "metadata": {
      "needs_background": "light"
     },
     "output_type": "display_data"
    }
   ],
   "source": [
    "sns.jointplot(data=res, x='rmsd_l12', y='rmsd_h12', hue='engineered_label')\n",
    "# res.plot.scatter(x='rmsd_l12', y='rmsd_h12')"
   ]
  }
 ],
 "metadata": {
  "kernelspec": {
   "display_name": "Python 3.8.10 64-bit ('bioinfo': conda)",
   "name": "python3810jvsc74a57bd0e82fddd786a8bda8f8ea77b5e9a9a22edaaecb3f5e5d505b80720d642b239204"
  },
  "language_info": {
   "codemirror_mode": {
    "name": "ipython",
    "version": 3
   },
   "file_extension": ".py",
   "mimetype": "text/x-python",
   "name": "python",
   "nbconvert_exporter": "python",
   "pygments_lexer": "ipython3",
   "version": "3.8.10"
  },
  "metadata": {
   "interpreter": {
    "hash": "e82fddd786a8bda8f8ea77b5e9a9a22edaaecb3f5e5d505b80720d642b239204"
   }
  },
  "orig_nbformat": 2
 },
 "nbformat": 4,
 "nbformat_minor": 2
}