{
 "cells": [
  {
   "cell_type": "code",
   "execution_count": 1,
   "metadata": {},
   "outputs": [],
   "source": [
    "from typing import List\n",
    "import numpy as np\n",
    "import logging\n",
    "\n",
    "import Bio\n",
    "import Bio.PDB\n",
    "import Bio.SVDSuperimposer"
   ]
  },
  {
   "cell_type": "code",
   "execution_count": 6,
   "metadata": {},
   "outputs": [
    {
     "name": "stdout",
     "output_type": "stream",
     "text": [
      "4.655095074888375 6.572240819227812\n"
     ]
    }
   ],
   "source": [
    "def extract_variable_regions_residues(\n",
    "    structure: Bio.PDB.Structure.Structure, \n",
    "    hchain_id: str, \n",
    "    lchain_id: str):\n",
    "    '''\n",
    "    Extracts residues of the variable regions. It's used to extract\n",
    "     a constant length for heavy and light chains, as to allow direct\n",
    "     structural alignments (e.g. based on Calpha carbons).\n",
    "    '''\n",
    "\n",
    "    H_CHAIN_LEN = 113 + 12\n",
    "    L_CHAIN_LEN = 107 + 11\n",
    "\n",
    "    if len(structure) > 1:\n",
    "        logging.warning(f\"Structure {structure.id} has >1 model\")\n",
    "    model = structure[0]\n",
    "    hchain = model[hchain_id]\n",
    "    lchain = model[lchain_id]\n",
    "\n",
    "    hchain_res = list(hchain.get_residues())[:H_CHAIN_LEN]\n",
    "    lchain_res = list(lchain.get_residues())[:L_CHAIN_LEN]\n",
    "\n",
    "    return hchain_res, lchain_res\n",
    "\n",
    "def is_atom_ca(atom: Bio.PDB.Atom.Atom) -> bool:\n",
    "    return atom.get_id() == \"CA\"\n",
    "\n",
    "def get_atom_coord(atom: Bio.PDB.Atom.Atom) -> np.array:\n",
    "    '''Returns list with 3 elements ~ coordinates - vector.'''\n",
    "    return np.array(atom.get_coord())\n",
    "\n",
    "def extract_calpha_coord(residues: List[Bio.PDB.Residue.Residue]) -> np.array:\n",
    "    coord_array = None\n",
    "    for r in residues:\n",
    "        ca_found = False\n",
    "        atoms = r.get_atoms()        \n",
    "        for atom in atoms:\n",
    "            if is_atom_ca(atom):\n",
    "                if ca_found:\n",
    "                    raise RuntimeError(\"Found >1 Calpha carbons for a residue.\")\n",
    "                coord = get_atom_coord(atom)\n",
    "                ca_found = True\n",
    "        \n",
    "        if coord_array is not None:\n",
    "            coord_array = np.vstack([coord_array, coord])\n",
    "        else:\n",
    "            coord_array = coord\n",
    "    return coord_array\n",
    "\n",
    "def compute_rmsd(\n",
    "    coord_1: np.array, \n",
    "    coord_2: np.array, \n",
    "    superimposer = None) -> float:\n",
    "    \n",
    "    if superimposer is None:\n",
    "        superimposer = Bio.SVDSuperimposer.SVDSuperimposer()\n",
    "    superimposer.set(coord_1, coord_2)\n",
    "    superimposer.run()\n",
    "    return superimposer.get_rms()\n"
   ]
  },
  {
   "cell_type": "code",
   "execution_count": 12,
   "metadata": {},
   "outputs": [
    {
     "name": "stdout",
     "output_type": "stream",
     "text": [
      "4.655095074888375 6.572240819227812 5.800130139316306\n"
     ]
    }
   ],
   "source": [
    "parser = Bio.PDB.PDBParser(PERMISSIVE=0)  # strict parser\n",
    "structure1 = parser.get_structure(\"test1\", \"data/SAbDab/chothia/1ad0.pdb\")\n",
    "structure2 = parser.get_structure(\"test2\", \"data/SAbDab/chothia/1fgv.pdb\")\n",
    "\n",
    "h_res_1, l_res_1 = extract_variable_regions_residues(structure1, \"B\", \"A\")\n",
    "h_res_2, l_res_2 = extract_variable_regions_residues(structure2, \"H\", \"L\")\n",
    "\n",
    "coord_h1 = extract_calpha_coord(h_res_1)\n",
    "coord_l1 = extract_calpha_coord(l_res_1)\n",
    "coord_h2 = extract_calpha_coord(h_res_2)\n",
    "coord_l2 = extract_calpha_coord(l_res_2)\n",
    "\n",
    "sup = Bio.SVDSuperimposer.SVDSuperimposer()\n",
    "rmsd_h12 = compute_rmsd(coord_h1, coord_h2, sup)\n",
    "rmsd_l12 = compute_rmsd(coord_l1, coord_l2, sup)\n",
    "rmsd_v12 = compute_rmsd(\n",
    "    np.vstack([coord_h2, coord_l2]),\n",
    "    np.vstack([coord_h1, coord_l1]),\n",
    ")\n",
    "\n",
    "print(rmsd_h12, rmsd_l12)"
   ]
  },
  {
   "cell_type": "code",
   "execution_count": null,
   "metadata": {},
   "outputs": [],
   "source": [
    "# Sample pairs and compute rmsd"
   ]
  }
 ],
 "metadata": {
  "kernelspec": {
   "display_name": "Python 3.8.8 64-bit ('base': conda)",
   "name": "python388jvsc74a57bd018ecf053714160a4364ad45208ea3cee1902a9806a65ba72a3c54c13909e652f"
  },
  "language_info": {
   "codemirror_mode": {
    "name": "ipython",
    "version": 3
   },
   "file_extension": ".py",
   "mimetype": "text/x-python",
   "name": "python",
   "nbconvert_exporter": "python",
   "pygments_lexer": "ipython3",
   "version": "3.8.8"
  },
  "orig_nbformat": 2
 },
 "nbformat": 4,
 "nbformat_minor": 2
}