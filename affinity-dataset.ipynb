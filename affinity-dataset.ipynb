{
 "cells": [
  {
   "cell_type": "code",
   "execution_count": 1,
   "metadata": {},
   "outputs": [],
   "source": [
    "import numpy as np\n",
    "import pandas as pd"
   ]
  },
  {
   "cell_type": "code",
   "execution_count": 2,
   "metadata": {},
   "outputs": [
    {
     "name": "stdout",
     "output_type": "stream",
     "text": [
      "\n",
      "    - shape: (317, 30)\n",
      "    - unique pdb: 185\n",
      "    - num engineered: 166\n",
      "    - unique antigen names: 122\n",
      "\n"
     ]
    },
    {
     "data": {
      "text/html": "<div>\n<style scoped>\n    .dataframe tbody tr th:only-of-type {\n        vertical-align: middle;\n    }\n\n    .dataframe tbody tr th {\n        vertical-align: top;\n    }\n\n    .dataframe thead th {\n        text-align: right;\n    }\n</style>\n<table border=\"1\" class=\"dataframe\">\n  <thead>\n    <tr style=\"text-align: right;\">\n      <th></th>\n      <th>pdb</th>\n      <th>Hchain</th>\n      <th>Lchain</th>\n      <th>model</th>\n      <th>antigen_chain</th>\n      <th>antigen_type</th>\n      <th>antigen_het_name</th>\n      <th>antigen_name</th>\n      <th>short_header</th>\n      <th>date</th>\n      <th>...</th>\n      <th>scfv</th>\n      <th>engineered</th>\n      <th>heavy_subclass</th>\n      <th>light_subclass</th>\n      <th>light_ctype</th>\n      <th>affinity</th>\n      <th>delta_g</th>\n      <th>affinity_method</th>\n      <th>temperature</th>\n      <th>pmid</th>\n    </tr>\n  </thead>\n  <tbody>\n    <tr>\n      <th>0</th>\n      <td>4i2x</td>\n      <td>D</td>\n      <td>C</td>\n      <td>0</td>\n      <td>F</td>\n      <td>protein</td>\n      <td>NaN</td>\n      <td>signal-regulatory protein gamma</td>\n      <td>IMMUNE SYSTEM</td>\n      <td>11/23/12</td>\n      <td>...</td>\n      <td>False</td>\n      <td>False</td>\n      <td>IGHV1</td>\n      <td>IGKV6</td>\n      <td>Kappa</td>\n      <td>None</td>\n      <td>None</td>\n      <td>None</td>\n      <td>None</td>\n      <td>None</td>\n    </tr>\n    <tr>\n      <th>1</th>\n      <td>4i2x</td>\n      <td>B</td>\n      <td>A</td>\n      <td>0</td>\n      <td>E</td>\n      <td>protein</td>\n      <td>NaN</td>\n      <td>signal-regulatory protein gamma</td>\n      <td>IMMUNE SYSTEM</td>\n      <td>11/23/12</td>\n      <td>...</td>\n      <td>False</td>\n      <td>False</td>\n      <td>IGHV1</td>\n      <td>IGKV6</td>\n      <td>Kappa</td>\n      <td>None</td>\n      <td>None</td>\n      <td>None</td>\n      <td>None</td>\n      <td>None</td>\n    </tr>\n    <tr>\n      <th>2</th>\n      <td>3eoa</td>\n      <td>H</td>\n      <td>L</td>\n      <td>0</td>\n      <td>I</td>\n      <td>protein</td>\n      <td>NaN</td>\n      <td>integrin alpha-l</td>\n      <td>IMMUNE SYSTEM/CELL ADHESION</td>\n      <td>09/26/08</td>\n      <td>...</td>\n      <td>False</td>\n      <td>True</td>\n      <td>IGHV3</td>\n      <td>IGKV1</td>\n      <td>Kappa</td>\n      <td>2.20E-09</td>\n      <td>-11.8</td>\n      <td>SPR</td>\n      <td>25</td>\n      <td>19258452</td>\n    </tr>\n  </tbody>\n</table>\n<p>3 rows × 30 columns</p>\n</div>",
      "text/plain": "    pdb Hchain Lchain  model antigen_chain antigen_type antigen_het_name  \\\n0  4i2x      D      C      0             F      protein              NaN   \n1  4i2x      B      A      0             E      protein              NaN   \n2  3eoa      H      L      0             I      protein              NaN   \n\n                      antigen_name                 short_header      date  \\\n0  signal-regulatory protein gamma                IMMUNE SYSTEM  11/23/12   \n1  signal-regulatory protein gamma                IMMUNE SYSTEM  11/23/12   \n2                 integrin alpha-l  IMMUNE SYSTEM/CELL ADHESION  09/26/08   \n\n   ...   scfv engineered heavy_subclass light_subclass light_ctype  affinity  \\\n0  ...  False      False          IGHV1          IGKV6       Kappa      None   \n1  ...  False      False          IGHV1          IGKV6       Kappa      None   \n2  ...  False       True          IGHV3          IGKV1       Kappa  2.20E-09   \n\n   delta_g affinity_method  temperature      pmid  \n0     None            None         None      None  \n1     None            None         None      None  \n2    -11.8             SPR           25  19258452  \n\n[3 rows x 30 columns]"
     },
     "execution_count": 2,
     "metadata": {},
     "output_type": "execute_result"
    }
   ],
   "source": [
    "df = pd.read_csv(\"data/SAbDab-affinity/20210928_0462711_summary.tsv\", sep='\\t')\n",
    "print(f\"\"\"\n",
    "    - shape: {df.shape}\n",
    "    - unique pdb: {len(df.pdb.unique())}\n",
    "    - num engineered: {df.pdb[(df.engineered == True)].unique().shape[0]}\n",
    "    - unique antigen names: {df.antigen_name.unique().shape[0]}\n",
    "\"\"\")\n",
    "df.head(3)"
   ]
  },
  {
   "cell_type": "code",
   "execution_count": 3,
   "metadata": {},
   "outputs": [],
   "source": [
    "df = df.loc[(df.affinity != \"None\")].copy()\n",
    "df['affinity'] = df['affinity'].astype(\"float32\")\n",
    "df['delta_g'] = df['delta_g'].astype(\"float32\")"
   ]
  },
  {
   "cell_type": "code",
   "execution_count": null,
   "metadata": {},
   "outputs": [],
   "source": [
    "# Implement GNN\n"
   ]
  }
 ],
 "metadata": {
  "kernelspec": {
   "display_name": "Python 3.8.10 64-bit ('bioinfo': conda)",
   "name": "python3810jvsc74a57bd0e82fddd786a8bda8f8ea77b5e9a9a22edaaecb3f5e5d505b80720d642b239204"
  },
  "language_info": {
   "codemirror_mode": {
    "name": "ipython",
    "version": 3
   },
   "file_extension": ".py",
   "mimetype": "text/x-python",
   "name": "python",
   "nbconvert_exporter": "python",
   "pygments_lexer": "ipython3",
   "version": "3.8.10"
  },
  "metadata": {
   "interpreter": {
    "hash": "e82fddd786a8bda8f8ea77b5e9a9a22edaaecb3f5e5d505b80720d642b239204"
   }
  },
  "orig_nbformat": 2
 },
 "nbformat": 4,
 "nbformat_minor": 2
}